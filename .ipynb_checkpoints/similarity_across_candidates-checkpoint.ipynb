{
 "cells": [
  {
   "cell_type": "code",
   "execution_count": 1,
   "metadata": {
    "collapsed": true
   },
   "outputs": [],
   "source": [
    "import sys\n",
    "import csv\n",
    "import urllib\n",
    "import pandas as pd\n",
    "import numpy as np\n",
    "from sklearn.decomposition import PCA\n",
    "import seaborn as sns\n",
    "from matplotlib import pyplot as plt\n",
    "from sklearn.feature_extraction.text import TfidfVectorizer\n",
    "from nltk.tokenize.casual import casual_tokenize\n",
    "from sklearn.decomposition import PCA\n",
    "from sklearn.decomposition import TruncatedSVD\n",
    "from sklearn.model_selection import train_test_split \n",
    "from sklearn.discriminant_analysis import LinearDiscriminantAnalysis as LDA\n",
    "from sklearn.feature_extraction.text import CountVectorizer\n",
    "from sklearn.decomposition import LatentDirichletAllocation as LDiA\n",
    "from sklearn.metrics.pairwise import cosine_similarity\n",
    "import math\n",
    "%matplotlib inline"
   ]
  },
  {
   "cell_type": "code",
   "execution_count": 2,
   "metadata": {
    "collapsed": true
   },
   "outputs": [],
   "source": [
    "def cosine(matrix1, matrix2):\n",
    "    return matrix2.dot(matrix1.T)"
   ]
  },
  {
   "cell_type": "code",
   "execution_count": 3,
   "metadata": {
    "collapsed": true
   },
   "outputs": [],
   "source": [
    "def total_score(cosine_df, threshold):\n",
    "    total = cosine_df.shape[0] * cosine_df.shape[1]\n",
    "    similar = 0\n",
    "    for i, row in cosine_df.iterrows():\n",
    "        for j in row:\n",
    "            if j > threshold:\n",
    "                similar += 1\n",
    "    return similar/total"
   ]
  },
  {
   "cell_type": "code",
   "execution_count": 39,
   "metadata": {
    "collapsed": true
   },
   "outputs": [],
   "source": [
    "def avg_cosine(cosine_df):\n",
    "    total = cosine_df.shape[0] * cosine_df.shape[1]\n",
    "    similar_sum = 0\n",
    "    for i, row in cosine_df.iterrows():\n",
    "        for j in row:\n",
    "            similar_sum += j\n",
    "    return similar_sum/total"
   ]
  },
  {
   "cell_type": "code",
   "execution_count": 5,
   "metadata": {
    "collapsed": true
   },
   "outputs": [],
   "source": [
    "def norm_avg_cos(cosine_df, num):\n",
    "    return avg_cosine(cosine_df)/num"
   ]
  },
  {
   "cell_type": "code",
   "execution_count": 6,
   "metadata": {
    "collapsed": true
   },
   "outputs": [],
   "source": [
    "svd_all = pd.read_csv('svd.csv')\n",
    "meade_svd = svd_all[:179]\n",
    "anaya_svd = svd_all[179:307]\n",
    "amlo_svd = svd_all[307:]"
   ]
  },
  {
   "cell_type": "code",
   "execution_count": 40,
   "metadata": {},
   "outputs": [
    {
     "data": {
      "text/plain": [
       "0.40958894680876623"
      ]
     },
     "execution_count": 40,
     "metadata": {},
     "output_type": "execute_result"
    }
   ],
   "source": [
    "avg_cosine(cosine(amlo_svd, amlo_svd))"
   ]
  },
  {
   "cell_type": "code",
   "execution_count": 41,
   "metadata": {},
   "outputs": [],
   "source": [
    "amlo_row = [avg_cosine(cosine(amlo_svd, amlo_svd)),\n",
    "            avg_cosine(cosine(amlo_svd, anaya_svd)), \n",
    "            avg_cosine(cosine(amlo_svd, meade_svd))]\n",
    "\n",
    "anaya_row = [None, \n",
    "             avg_cosine(cosine(anaya_svd, anaya_svd)), \n",
    "             avg_cosine(cosine(anaya_svd, meade_svd))]\n",
    "\n",
    "meade_row = [None,\n",
    "             None,\n",
    "             avg_cosine(cosine(meade_svd, meade_svd))]"
   ]
  },
  {
   "cell_type": "code",
   "execution_count": 42,
   "metadata": {},
   "outputs": [],
   "source": [
    "amlo_row_b = [avg_cosine(cosine(amlo_svd, anaya_svd)), \n",
    "              avg_cosine(cosine(amlo_svd, meade_svd))]\n",
    "\n",
    "anaya_row_b = [None, \n",
    "               avg_cosine(cosine(anaya_svd, meade_svd))]"
   ]
  },
  {
   "cell_type": "code",
   "execution_count": 43,
   "metadata": {
    "collapsed": true
   },
   "outputs": [],
   "source": [
    "avg_cosine_list = [amlo_row, anaya_row, meade_row]\n",
    "avg_cosine_df = pd.DataFrame(avg_cosine_list, columns=['AMLO', 'ANAYA', 'MEADE'], index= ['AMLO', 'ANAYA', 'MEADE'])"
   ]
  },
  {
   "cell_type": "code",
   "execution_count": 44,
   "metadata": {},
   "outputs": [
    {
     "data": {
      "image/png": "[encoded data removed]",
      "text/plain": [
       "<matplotlib.figure.Figure at 0x2153470e1d0>"
      ]
     },
     "metadata": {},
     "output_type": "display_data"
    }
   ],
   "source": [
    "sns.heatmap(avg_cosine_df.round(3), annot=True, cmap=\"Oranges\")\n",
    "plt.show()"
   ]
  },
  {
   "cell_type": "code",
   "execution_count": 47,
   "metadata": {
    "collapsed": true
   },
   "outputs": [],
   "source": [
    "avg_cosine_list_b = [amlo_row_b, anaya_row_b]\n",
    "avg_cosine_df_b = pd.DataFrame(avg_cosine_list_b, columns=['ANAYA', 'MEADE'], index= ['AMLO', 'ANAYA'])"
   ]
  },
  {
   "cell_type": "code",
   "execution_count": 50,
   "metadata": {},
   "outputs": [
    {
     "data": {
      "image/png": "[encoded data removed]",
      "text/plain": [
       "<matplotlib.figure.Figure at 0x215346e1f98>"
      ]
     },
     "metadata": {},
     "output_type": "display_data"
    }
   ],
   "source": [
    "sns.heatmap(avg_cosine_df_b.round(3), annot=True, cmap=\"Blues\")\n",
    "plt.show()"
   ]
  },
  {
   "cell_type": "code",
   "execution_count": null,
   "metadata": {
    "collapsed": true
   },
   "outputs": [],
   "source": []
  }
 ],
 "metadata": {
  "kernelspec": {
   "display_name": "Python 3",
   "language": "python",
   "name": "python3"
  },
  "language_info": {
   "codemirror_mode": {
    "name": "ipython",
    "version": 3
   },
   "file_extension": ".py",
   "mimetype": "text/x-python",
   "name": "python",
   "nbconvert_exporter": "python",
   "pygments_lexer": "ipython3",
   "version": "3.6.3"
  }
 },
 "nbformat": 4,
 "nbformat_minor": 2
}
